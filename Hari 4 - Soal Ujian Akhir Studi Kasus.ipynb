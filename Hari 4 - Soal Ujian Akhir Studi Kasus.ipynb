{
    "metadata": {
        "kernelspec": {
            "name": "SQL",
            "display_name": "SQL",
            "language": "sql"
        },
        "language_info": {
            "name": "sql",
            "version": ""
        }
    },
    "nbformat_minor": 2,
    "nbformat": 4,
    "cells": [
        {
            "cell_type": "markdown",
            "source": [
                "<h4><center><font color=\"1F4690\">PJJ TEKNIK AUDIT BERBANTUAN KOMPUTER <br> <br> Selasa, 6 Juni 2023</font></center></h4>\n",
                "<div class=\"alert alert-info\"><h1 align=\"center\"><font color=\"1F4690\">SOAL AKHIR STUDI KASUS</font></h4></div> "
            ],
            "metadata": {
                "azdata_cell_guid": "3420fdc6-d318-4dcf-83d1-fc064d93d432"
            },
            "attachments": {}
        },
        {
            "cell_type": "markdown",
            "source": [
                "**PROSEDUR AUDIT**"
            ],
            "metadata": {
                "azdata_cell_guid": "62688f64-19bc-4770-91a9-ad71078608ee"
            },
            "attachments": {}
        },
        {
            "cell_type": "markdown",
            "source": [
                "  \n",
                "\n",
                "**1\\. Kelengkapan Informasi Lot Lelang** \n",
                "\n",
                "a. Pejabat Lelang\n",
                "\n",
                "b. Cara\\_penawaran\n",
                "\n",
                "c. Jenis\\_barang\n",
                "\n",
                "d. Provinsi dan Kota"
            ],
            "metadata": {
                "azdata_cell_guid": "a09b8efa-add5-4d3e-a39f-357784cd1672"
            },
            "attachments": {}
        },
        {
            "cell_type": "code",
            "source": [
                "--Script"
            ],
            "metadata": {
                "azdata_cell_guid": "93cd9d21-b397-4552-ace1-4bc6fa11a627",
                "language": "sql"
            },
            "outputs": [],
            "execution_count": null
        },
        {
            "cell_type": "markdown",
            "source": [
                "**2\\. Pembuatan lot lelang pada hari yang sama atau setelah tanggal pelaksanaan lelang (tgl\\_ditutup).**"
            ],
            "metadata": {
                "azdata_cell_guid": "1ab150ab-a827-41ab-9125-70d1857356e9"
            },
            "attachments": {}
        },
        {
            "cell_type": "code",
            "source": [
                "--Script"
            ],
            "metadata": {
                "azdata_cell_guid": "ce778f90-2668-406b-b599-78c6fd1eb689",
                "language": "sql"
            },
            "outputs": [],
            "execution_count": null
        },
        {
            "cell_type": "markdown",
            "source": [
                "**3\\. Lot lelang open bidding dengan waktu penawaran kurang dari 2 jam.**"
            ],
            "metadata": {
                "azdata_cell_guid": "804b8f94-9e9d-497e-ae2a-ac72ccf0bb59"
            },
            "attachments": {}
        },
        {
            "cell_type": "code",
            "source": [
                "--Script"
            ],
            "metadata": {
                "azdata_cell_guid": "8ac2c63c-1552-4ca3-821f-cb1a6c912e03",
                "language": "sql"
            },
            "outputs": [],
            "execution_count": null
        },
        {
            "cell_type": "markdown",
            "source": [
                "**4\\. Lot lelang dengan nilai uang jaminan tidak sesuai ketentuan:**\n",
                "\n",
                "**Ketentuan nilai uang jaminan adalah maksimal 50% dari nilai limit dan setiap lelang harus memiliki nilai uang jaminan.**"
            ],
            "metadata": {
                "azdata_cell_guid": "2b7b616a-cfcb-4e5e-afe2-c79e8fe3424d"
            },
            "attachments": {}
        },
        {
            "cell_type": "code",
            "source": [
                "--Script"
            ],
            "metadata": {
                "azdata_cell_guid": "941f8c4d-f69b-4556-a93f-0bd7954f9d0c",
                "language": "sql"
            },
            "outputs": [],
            "execution_count": null
        },
        {
            "cell_type": "markdown",
            "source": [
                "**5\\. Lakukan analisis terhadap data KTP, pastikan KTP yang telah terverifikasi memiliki file lampiran.**"
            ],
            "metadata": {
                "azdata_cell_guid": "60e7ff67-9a9d-43c4-812b-3b62225c63c9"
            },
            "attachments": {}
        },
        {
            "cell_type": "code",
            "source": [
                "--Script"
            ],
            "metadata": {
                "azdata_cell_guid": "7221e894-f6f2-4488-b3a4-8531de8e5a9a",
                "language": "sql"
            },
            "outputs": [],
            "execution_count": null
        },
        {
            "cell_type": "markdown",
            "source": [
                "**6\\. Lakukan analisis terhadap kepesertaan lelang, pastikan peserta lelang yang lolos telah memiliki KTP yang terverifikasi.**"
            ],
            "metadata": {
                "azdata_cell_guid": "7368db02-9c07-4a73-80de-a93f9df32eae"
            },
            "attachments": {}
        },
        {
            "cell_type": "code",
            "source": [
                "--Script"
            ],
            "metadata": {
                "azdata_cell_guid": "694c1ac9-1828-4ac7-9c99-37d6e752bdd0",
                "language": "sql"
            },
            "outputs": [],
            "execution_count": null
        },
        {
            "cell_type": "markdown",
            "source": [
                "**7\\. Lakukan analisis data historis pastikan peserta lelang yang telah lolos telah memiliki status uang jaminan diterima.**"
            ],
            "metadata": {
                "azdata_cell_guid": "e4f23b87-7db5-48e0-a4b1-05a57e72024a"
            },
            "attachments": {}
        },
        {
            "cell_type": "code",
            "source": [
                "--Script"
            ],
            "metadata": {
                "azdata_cell_guid": "abb8512d-ddd8-45c7-bb15-ede5a9a1a8d0",
                "language": "sql"
            },
            "outputs": [],
            "execution_count": null
        },
        {
            "cell_type": "markdown",
            "source": [
                "**8\\. Lakukan analisis terhadap data historis penawaran, pastikan tidak terdapat penawaran yang kurang dari nilai limit ditentukan** \n",
                "\n",
                "**(baik untuk penawaran OB atau penawaran CB).**"
            ],
            "metadata": {
                "azdata_cell_guid": "5d9c3912-1e99-43a4-b3d4-90b45c5ac355"
            },
            "attachments": {}
        },
        {
            "cell_type": "code",
            "source": [
                "--Script"
            ],
            "metadata": {
                "azdata_cell_guid": "abc1f483-6335-4a88-a793-b67ab69b2e1f",
                "language": "sql"
            },
            "outputs": [],
            "execution_count": null
        },
        {
            "cell_type": "markdown",
            "source": [
                "**9\\. Lakukan analisis terhadap data historis masing-masing data penawaran, pastikan tidak terdapat penawaran yang hilang/terhapus.**"
            ],
            "metadata": {
                "azdata_cell_guid": "c11cd557-e1a6-4bbe-abe7-f460ad6baf57"
            },
            "attachments": {}
        },
        {
            "cell_type": "code",
            "source": [
                "--Script"
            ],
            "metadata": {
                "azdata_cell_guid": "2bfa306e-1d54-4429-ab26-94c870ee5b74",
                "language": "sql"
            },
            "outputs": [],
            "execution_count": null
        },
        {
            "cell_type": "markdown",
            "source": [
                "**10\\. Lakukan analisis data historis penawaran open biding, pastikan tidak terdapat penawaran yang tidak sesuai kelipatan bid.**"
            ],
            "metadata": {
                "azdata_cell_guid": "a058e60a-1800-4949-b8f2-52112d3cf885"
            },
            "attachments": {}
        },
        {
            "cell_type": "code",
            "source": [
                "--Script"
            ],
            "metadata": {
                "azdata_cell_guid": "b15777ff-d5e5-4cc6-a5c1-3eaefbd9fec0",
                "language": "sql"
            },
            "outputs": [],
            "execution_count": null
        },
        {
            "cell_type": "markdown",
            "source": [
                "**11\\. Lakukan analisis data penawaran, pastikan penawaran dilakukan sebelum waktu penutupan lelang.**"
            ],
            "metadata": {
                "azdata_cell_guid": "df563d13-2827-42da-84f6-f191325b7ca3"
            },
            "attachments": {}
        },
        {
            "cell_type": "code",
            "source": [
                "--Script"
            ],
            "metadata": {
                "azdata_cell_guid": "817f2c93-64b2-4792-9b5a-498fdddb2f3f",
                "language": "sql"
            },
            "outputs": [],
            "execution_count": null
        },
        {
            "cell_type": "markdown",
            "source": [
                "-----------------------------------\r\n",
                "# LAPORAN\r\n",
                "-----------------------------------\r\n",
                "**Buat laporan kepada pimpinan unit audit dengan ketentuan sebagai berikut:**"
            ],
            "metadata": {
                "language": "sql",
                "azdata_cell_guid": "dbc1a2cf-c531-4634-b3b6-be7b5e74a8af"
            },
            "attachments": {}
        },
        {
            "cell_type": "markdown",
            "source": [
                "**1\\. Laporan jumlah penawar lelang berdasarkan gender (PUG).**"
            ],
            "metadata": {
                "azdata_cell_guid": "7118e0e0-b190-4483-adab-3751a69a8bf6"
            },
            "attachments": {}
        },
        {
            "cell_type": "code",
            "source": [
                "--Script"
            ],
            "metadata": {
                "azdata_cell_guid": "8aec2e92-20b2-4a49-a4dc-a26c2dfa690d",
                "language": "sql"
            },
            "outputs": [],
            "execution_count": null
        },
        {
            "cell_type": "markdown",
            "source": [
                "**2\\. Laporan jumlah lelang berdasarkan status lelang.**"
            ],
            "metadata": {
                "azdata_cell_guid": "683ce31d-41e1-4f33-a1c1-58716cecece2"
            },
            "attachments": {}
        },
        {
            "cell_type": "code",
            "source": [
                "--Script"
            ],
            "metadata": {
                "azdata_cell_guid": "82af3390-956d-489f-ad4a-810673408994",
                "language": "sql"
            },
            "outputs": [],
            "execution_count": null
        },
        {
            "cell_type": "markdown",
            "source": [
                "**3\\. Laporan jumlah lelang laku berdasarkan unit kerja/satker.**"
            ],
            "metadata": {
                "azdata_cell_guid": "2e917418-d5fc-4f7c-b0a5-4f4d47ee1805"
            },
            "attachments": {}
        },
        {
            "cell_type": "code",
            "source": [
                "--Script"
            ],
            "metadata": {
                "azdata_cell_guid": "f0f25658-13fd-4420-ba0d-524a2393f38f",
                "language": "sql"
            },
            "outputs": [],
            "execution_count": null
        }
    ]
}